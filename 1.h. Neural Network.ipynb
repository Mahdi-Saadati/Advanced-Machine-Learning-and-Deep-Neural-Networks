{
  "nbformat": 4,
  "nbformat_minor": 0,
  "metadata": {
    "colab": {
      "provenance": [],
      "authorship_tag": "ABX9TyMu7/ndJW6bhO+Uko8sDw2g",
      "include_colab_link": true
    },
    "kernelspec": {
      "name": "python3",
      "display_name": "Python 3"
    },
    "language_info": {
      "name": "python"
    }
  },
  "cells": [
    {
      "cell_type": "markdown",
      "metadata": {
        "id": "view-in-github",
        "colab_type": "text"
      },
      "source": [
        "<a href=\"https://colab.research.google.com/github/Mahdi-Saadati/Machine-Learning-2/blob/main/1.h.%20Neural%20Network.ipynb\" target=\"_parent\"><img src=\"https://colab.research.google.com/assets/colab-badge.svg\" alt=\"Open In Colab\"/></a>"
      ]
    },
    {
      "cell_type": "markdown",
      "source": [
        "<div dir=\"rtl\" align=\"right\">\n",
        "پیشبینی گل زنبق:\n"
      ],
      "metadata": {
        "id": "hZrWzh0BrukD"
      }
    },
    {
      "cell_type": "code",
      "source": [
        "import numpy as np\n",
        "import matplotlib.pyplot as plt\n",
        "import pandas as pd\n",
        "from keras.utils import to_categorical\n",
        "from keras.models import Sequential\n",
        "from keras.layers import Dense\n",
        "from keras.layers import Activation\n",
        "from keras.optimizers import SGD\n",
        "from sklearn.model_selection import train_test_split\n",
        "from sklearn.preprocessing import StandardScaler\n",
        "\n",
        "Data = pd.read_csv(\"Dataset\\iris.csv\")\n",
        "Data_array = Data.to_numpy()\n",
        "X = Data_array[:,0:4]\n",
        "y = Data_array[:,4]\n",
        "\n",
        "y[np.where(y == 'Setosa')] = 0\n",
        "y[np.where(y == 'Versicolor')] = 1\n",
        "y[np.where(y == 'Virginica')] = -1\n",
        "\n",
        "X_train, X_test, y_train, y_test = train_test_split(X, y, test_size=0.2)\n",
        "\n",
        "y_train = to_categorical(y_train, num_classes = 3)\n",
        "y_test = to_categorical(y_test, num_classes = 3)\n",
        "\n",
        "sc = StandardScaler()\n",
        "X_train = sc.fit_transform(X_train)\n",
        "X_test = sc.transform(X_test)\n",
        "\n",
        "Model = Sequential()\n",
        "Model.add(Dense(16, input_dim = 4))\n",
        "Model.add(Activation('relu'))\n",
        "Model.add(Dense(8))\n",
        "Model.add(Activation('relu'))\n",
        "Model.add(Dense(4))\n",
        "Model.add(Activation('relu'))\n",
        "Model.add(Dense(3))\n",
        "Model.add(Activation('softmax'))\n",
        "\n",
        "Model.compile(SGD(learning_rate=0.1),\n",
        "              loss = 'categorical_crossentropy',\n",
        "              metrics= ['accuracy'])\n",
        "\n",
        "h = Model.fit(X_train, y_train, epochs= 70, batch_size = 64)\n",
        "\n",
        "plt.plot(h.history['loss'])\n",
        "plt.title('The loss of training model')\n",
        "plt.xlabel('epochs')\n",
        "plt.ylabel('loss')\n",
        "plt.show()\n",
        "\n",
        "plt.plot(h.history['accuracy'])\n",
        "plt.title('The accuracy of training model')\n",
        "plt.xlabel('epochs')\n",
        "plt.ylabel('accuracy')\n",
        "plt.show()\n",
        "\n",
        "Pre = Model.predict(X_test)\n",
        "Output_model = Model.predict(X_test)\n",
        "Output_model=np.argmax(Output_model,axis=1)\n",
        "Score = Model.evaluate(X_test, y_test)\n",
        "print(\"Test Loss: \", Score[0])\n",
        "print(\"Test accuracy: \", Score[1])\n"
      ],
      "metadata": {
        "id": "NLWU9QYesTXc"
      },
      "execution_count": null,
      "outputs": []
    }
  ]
}