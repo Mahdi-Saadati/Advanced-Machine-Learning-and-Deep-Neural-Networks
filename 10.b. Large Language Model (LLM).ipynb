{
  "nbformat": 4,
  "nbformat_minor": 0,
  "metadata": {
    "colab": {
      "provenance": [],
      "gpuType": "T4",
      "authorship_tag": "ABX9TyMtSUHl6DliX2KfCgTVeF3f",
      "include_colab_link": true
    },
    "kernelspec": {
      "name": "python3",
      "display_name": "Python 3"
    },
    "language_info": {
      "name": "python"
    },
    "accelerator": "GPU"
  },
  "cells": [
    {
      "cell_type": "markdown",
      "metadata": {
        "id": "view-in-github",
        "colab_type": "text"
      },
      "source": [
        "<a href=\"https://colab.research.google.com/github/Mahdi-Saadati/Advanced-Machine-Learning-and-Deep-Neural-Networks/blob/main/10.b.%20Large%20Language%20Model%20(LLM).ipynb\" target=\"_parent\"><img src=\"https://colab.research.google.com/assets/colab-badge.svg\" alt=\"Open In Colab\"/></a>"
      ]
    },
    {
      "cell_type": "markdown",
      "source": [
        "<div dir=\"rtl\" align=\"right\">\n",
        "\n",
        "یک مثال پزشکی با LLM می‌زنیم. این مثال با همان GPT-2 سبک است و می‌تواند یک توضیح کوتاه یا توصیه ساده پزشکی تولید کند:"
      ],
      "metadata": {
        "id": "fXKz2oLTyQj8"
      }
    }
  ]
}