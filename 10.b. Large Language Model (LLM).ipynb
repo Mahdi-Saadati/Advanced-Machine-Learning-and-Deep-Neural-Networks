{
  "nbformat": 4,
  "nbformat_minor": 0,
  "metadata": {
    "colab": {
      "provenance": [],
      "gpuType": "T4",
      "authorship_tag": "ABX9TyNMt3nyoIMcQszJtnlRDF0m",
      "include_colab_link": true
    },
    "kernelspec": {
      "name": "python3",
      "display_name": "Python 3"
    },
    "language_info": {
      "name": "python"
    },
    "accelerator": "GPU"
  },
  "cells": [
    {
      "cell_type": "markdown",
      "metadata": {
        "id": "view-in-github",
        "colab_type": "text"
      },
      "source": [
        "<a href=\"https://colab.research.google.com/github/Mahdi-Saadati/Advanced-Machine-Learning-and-Deep-Neural-Networks/blob/main/10.b.%20Large%20Language%20Model%20(LLM).ipynb\" target=\"_parent\"><img src=\"https://colab.research.google.com/assets/colab-badge.svg\" alt=\"Open In Colab\"/></a>"
      ]
    },
    {
      "cell_type": "markdown",
      "source": [
        "<div dir=\"rtl\" align=\"right\">\n",
        "\n",
        "یک مثال پزشکی با LLM می‌زنیم. این مثال با همان GPT-2 سبک است و می‌تواند یک توضیح کوتاه یا توصیه ساده پزشکی تولید کند:"
      ],
      "metadata": {
        "id": "hym057CdDmQH"
      }
    },
    {
      "cell_type": "code",
      "source": [
        "# نصب کتابخانه مورد نیاز (اگر نصب نشده باشد)\n",
        "# pip install transformers torch\n",
        "\n",
        "from transformers import AutoModelForCausalLM, AutoTokenizer\n",
        "\n",
        "# انتخاب مدل سبک GPT-2\n",
        "model_name = \"gpt2\"\n",
        "\n",
        "# بارگذاری توکنایزر و مدل\n",
        "tokenizer = AutoTokenizer.from_pretrained(model_name)\n",
        "model = AutoModelForCausalLM.from_pretrained(model_name)\n",
        "\n",
        "# متن ورودی پزشکی\n",
        "prompt = \"A patient with high blood pressure should\"\n",
        "\n",
        "# تبدیل متن به توکن\n",
        "inputs = tokenizer(prompt, return_tensors=\"pt\")\n",
        "\n",
        "# تولید ادامه متن توسط مدل\n",
        "outputs = model.generate(\n",
        "    inputs[\"input_ids\"],\n",
        "    max_length=60,      # طول متن خروجی\n",
        "    num_return_sequences=1,\n",
        "    no_repeat_ngram_size=2,  # جلوگیری از تکرار زیاد\n",
        ")\n",
        "\n",
        "# تبدیل توکن‌ها به متن خوانا\n",
        "generated_text = tokenizer.decode(outputs[0], skip_special_tokens=True)\n",
        "\n",
        "print(generated_text)\n"
      ],
      "metadata": {
        "id": "q-o60dowDmcP",
        "outputId": "5c1e45c9-6457-4202-b4e2-5c6d865af500",
        "colab": {
          "base_uri": "https://localhost:8080/"
        }
      },
      "execution_count": 2,
      "outputs": [
        {
          "output_type": "stream",
          "name": "stderr",
          "text": [
            "The attention mask and the pad token id were not set. As a consequence, you may observe unexpected behavior. Please pass your input's `attention_mask` to obtain reliable results.\n",
            "Setting `pad_token_id` to `eos_token_id`:50256 for open-end generation.\n"
          ]
        },
        {
          "output_type": "stream",
          "name": "stdout",
          "text": [
            "A patient with high blood pressure should be treated with a blood thinner.\n",
            "\n",
            "The most common type of blood thinners are:\n",
            ".5% to .75%\n",
            ", .5 to 1.0% (for patients with hypertension)\n",
            " (For patients who have high cholesterol, the most\n"
          ]
        }
      ]
    },
    {
      "cell_type": "markdown",
      "source": [
        "<div dir=\"rtl\" align=\"right\">\n",
        "\n",
        "💡 نکات:\n",
        "\n",
        "این مدل GPT-2 سبک است و دانش پزشکی محدودی دارد؛ برای توصیه‌های واقعی بالینی نباید به آن تکیه کرد.\n",
        "\n",
        "می‌توانیم از مدل‌های پیشرفته‌تر پزشکی یا BioGPT استفاده کنیم تا پاسخ‌ها تخصصی‌تر باشند."
      ],
      "metadata": {
        "id": "GPE43E48Dmle"
      }
    }
  ]
}