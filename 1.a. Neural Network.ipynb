{
  "nbformat": 4,
  "nbformat_minor": 0,
  "metadata": {
    "colab": {
      "provenance": [],
      "authorship_tag": "ABX9TyPT9OPolU22h0IFL+JvyCeA",
      "include_colab_link": true
    },
    "kernelspec": {
      "name": "python3",
      "display_name": "Python 3"
    },
    "language_info": {
      "name": "python"
    }
  },
  "cells": [
    {
      "cell_type": "markdown",
      "metadata": {
        "id": "view-in-github",
        "colab_type": "text"
      },
      "source": [
        "<a href=\"https://colab.research.google.com/github/Mahdi-Saadati/Machine-Learning-2/blob/main/1.a.%20Neural%20Network.ipynb\" target=\"_parent\"><img src=\"https://colab.research.google.com/assets/colab-badge.svg\" alt=\"Open In Colab\"/></a>"
      ]
    },
    {
      "cell_type": "markdown",
      "source": [
        "<div dir=\"rtl\" align=\"right\">\n",
        "🧠 شبکه عصبی (Neural Network) چیه؟\n",
        "\n",
        "تصور کن مغز تو پر از نقطه‌های کوچیکی به نام \"نورون\" هست. این نورون‌ها مثل دوست‌های کوچولویی هستن که با هم حرف می‌زنن و کمک می‌کنن فکر کنی، یاد بگیری، و تصمیم بگیری.\n",
        "\n",
        "حالا کامپیوتر هم می‌تونه یه مغز کوچولو داشته باشه! این مغز کامپیوتری اسمش هست:\n",
        "\n",
        "این شبکه از تعداد زیادی نورون مثل تو درست شده، ولی این نورون‌ها برق و عدد می‌فهمن، نه احساس!\n",
        "\n",
        "مغز ما از میلیون‌ها نورون درست شده که هر کدام یک ورودی می‌گیرن و یک خروجی می‌فرستن.\n",
        "کامپیوتر هم می‌تواند همین ایده را اجرا کند:\n",
        "\n",
        "✅ ورودی‌ها: چیزهایی که می‌دانیم (مثل ساعت مطالعه، رنگ تصویر، صدا و …)\n",
        "\n",
        "✅ گره‌ها (نورون‌ها): ماشین‌های کوچک که جمع و ضرب و یک فرمول ساده انجام می‌دهند.\n",
        "\n",
        "✅ خروجی: چیزی که می‌خواهیم حدس بزنیم (مثلاً قبول یا رد، شاد یا غمگین، گربه یا سگ).\n",
        "\n",
        "\n",
        "🌟 خیلی ساده برای کلاس\n",
        "یک شبکه عصبی مثل چندین لایه‌ی نورون است:\n",
        "\n",
        "\n",
        "ورودی‌ها  →  لایه‌های پنهان →  خروجی\n",
        "\n",
        "✅ هر لایه، اطلاعات را می‌گیرد، پردازش می‌کند و به لایه‌ی بعدی می‌دهد.\n",
        "\n",
        "✅ در طول آموزش، کامپیوتر یاد می‌گیرد وزن‌های این نورون‌ها را طوری تنظیم کند که\n",
        "خروجی درست شود.\n",
        "\n",
        "✨ مثال ملموس:\n",
        "\n",
        "تصور کن می‌خواهی بفهمی توی یک عکس گربه است یا سگ.\n",
        "\n",
        "کامپیوتر اول به رنگ‌ها و شکل‌ها نگاه می‌کند (لایه‌ی اول)،\n",
        "\n",
        "بعد ترکیب آن‌ها را می‌سنجد (لایه‌ی دوم)،\n",
        "\n",
        "و در نهایت می‌گوید: این گربه است 🐱 یا سگ 🐶؟\n",
        "\n",
        "\n",
        "\n",
        "🟢 یک مثال ساده:\n",
        "\n",
        "فرض کن می‌خوای به یک ربات یاد بدی که بگه هوا گرمه یا سرده.\n",
        "\n",
        "تو بهش چند مثال می‌دی:\n",
        "\n",
        "وقتی دما 5 درجه است، بگو سرده\n",
        "\n",
        "وقتی دما 30 درجه است، بگو گرمه\n",
        "\n",
        "ربات این مثال‌ها رو نگاه می‌کنه، یاد می‌گیره، و بعد از چند تمرین، خودش می‌تونه بگه:\n",
        "\n",
        "☀️ \"اوه! امروز 28 درجه‌ست... باید بگم گرمه!\"\n",
        "\n",
        "🤖 ربات چطور یاد می‌گیره؟\n",
        "\n",
        "اولش اشتباه می‌کنه!\n",
        "\n",
        "تو بهش می‌گی جواب درست چی بوده.\n",
        "\n",
        "اون فکر می‌کنه و کم‌کم خودش رو درست می‌کنه.\n",
        "\n",
        "بعد از تمرین زیاد، باهوش‌تر می‌شه!\n",
        "\n",
        "🚲\n",
        "دقیقاً مثل وقتی که دوچرخه‌سواری یاد می‌گیری! اول زمین می‌خوری، بعد تمرین می‌کنی، بعدش خیلی خوب می‌تونی برونی\n",
        "\n",
        "📦 شبکه عصبی مثل یه جعبه جادویی هست!\n",
        "\n",
        "یه عدد یا تصویر بهش می‌دی\n",
        "\n",
        "اون نگاه می‌کنه و جواب می‌ده!\n",
        "\n",
        "هر چی بیشتر تمرین کنه، باهوش‌تر می‌شه\n",
        "\n",
        "\n",
        "در اینجا یک مثال ساده با استفاده از پایتون و کتابخانه Keras (از TensorFlow) برای پیش‌بینی نمرات دانشجویان با استفاده از یک شبکه عصبی مصنوعی (ANN) ارائه می‌شود.\n",
        "\n",
        "📌 مسئله:\n",
        "ما می‌خواهیم نمره نهایی یک دانشجو را بر اساس ساعات مطالعه و حضور در کلاس پیش‌بینی کنیم.\n",
        "\n",
        "✅ مراحل کلی:\n",
        "\n",
        "تولید داده‌ی مصنوعی\n",
        "\n",
        "ساخت مدل شبکه عصبی\n",
        "\n",
        "آموزش مدل\n",
        "\n",
        "ارزیابی مدل\n",
        "\n",
        "پیش‌بینی با داده جدید\n"
      ],
      "metadata": {
        "id": "hZrWzh0BrukD"
      }
    },
    {
      "cell_type": "code",
      "source": [
        "import numpy as np                              # وارد کردن کتابخانه numpy برای کار با آرایه‌ها و اعداد\n",
        "import tensorflow as tf                         # وارد کردن کتابخانه تنسورفلو برای یادگیری ماشین\n",
        "from tensorflow import keras                    # وارد کردن زیرمجموعه keras از tensorflow برای ساخت مدل‌ها\n",
        "import matplotlib.pyplot as plt                 # وارد کردن matplotlib برای رسم نمودارها\n",
        "\n",
        "# مرحله 1: تولید داده‌های آموزشی (فرضی)\n",
        "# ساعات مطالعه (0 تا 10) و حضور در کلاس (0 تا 10)\n",
        "np.random.seed(1)                               # ثابت نگه‌داشتن مقدار تصادفی برای تکرارپذیری\n",
        "study_hours = np.random.randint(1, 10, 100)     # تولید ۱۰۰ عدد تصادفی بین ۱ تا ۹ برای ساعات مطالعه\n",
        "attendance = np.random.randint(1, 10, 100)      # تولید ۱۰۰ عدد تصادفی برای حضور در کلاس\n",
        "\n",
        "# نمره نهایی = 5 * ساعات مطالعه + 3 * حضور + کمی نویز\n",
        "noise = np.random.normal(0, 5, 100)             # ایجاد نویز (اعداد تصادفی با میانگین ۰ و انحراف معیار ۵)\n",
        "final_score = 5 * study_hours + 3 * attendance + noise  # محاسبه نمره نهایی با فرمول خطی + نویز\n",
        "\n",
        "# تبدیل به آرایه دو بعدی\n",
        "X = np.column_stack((study_hours, attendance))  # ترکیب دو لیست study_hours و attendance به صورت ستونی (ویژگی‌ها)\n",
        "y = final_score                                 # متغیر هدف (نمره واقعی)\n",
        "\n",
        "# مرحله 2: ساخت مدل شبکه عصبی\n",
        "model = keras.Sequential([                      # ایجاد یک مدل ترتیبی (layer به layer)\n",
        "    keras.layers.Dense(8, input_shape=(2,), activation='relu'),  # لایه اول با ۸ نورون و ورودی با ۲ ویژگی (مطالعه و حضور)\n",
        "    keras.layers.Dense(4, activation='relu'),   # لایه دوم با ۴ نورون و تابع فعال‌سازی ReLU\n",
        "    keras.layers.Dense(1)                       # لایه خروجی با یک نورون (پیش‌بینی یک نمره)\n",
        "])\n",
        "\n",
        "# مرحله 3: کامپایل و آموزش مدل\n",
        "model.compile(optimizer='adam', loss='mse')     # تنظیم مدل برای آموزش: بهینه‌ساز Adam و تابع خطا MSE (میانگین مربعات)\n",
        "history = model.fit(X, y, epochs=100, verbose=0) # آموزش مدل روی داده‌های X و y به مدت ۱۰۰ دوره (epoch)\n",
        "\n",
        "# مرحله 4: رسم نمودار خطای آموزش\n",
        "plt.plot(history.history['loss'])               # رسم خطای آموزش در طول دوره‌ها\n",
        "plt.title('Error chart tutorial')               # عنوان نمودار: آموزش مدل\n",
        "plt.xlabel('(Epochs)')                          # برچسب محور x: تعداد دوره‌ها\n",
        "plt.ylabel('(MSE)')                             # برچسب محور y: مقدار خطا (MSE)\n",
        "plt.show()                                      # نمایش نمودار\n",
        "\n",
        "# مرحله 5: پیش‌بینی برای دانشجوی جدید\n",
        "new_student = np.array([[7, 8]])                # ویژگی‌های یک دانشجو جدید: ۷ ساعت مطالعه، ۸ بار حضور\n",
        "predicted_score = model.predict(new_student)    # پیش‌بینی نمره برای این دانشجو توسط مدل آموزش‌دیده\n",
        "print(\"Predicted score:\", predicted_score[0][0]) # چاپ نمره پیش‌بینی‌شده\n"
      ],
      "metadata": {
        "colab": {
          "base_uri": "https://localhost:8080/",
          "height": 544
        },
        "id": "NLWU9QYesTXc",
        "outputId": "672e44ec-6032-4e37-fec0-89acfcfad00a"
      },
      "execution_count": null,
      "outputs": [
        {
          "output_type": "display_data",
          "data": {
            "text/plain": [
              "<Figure size 640x480 with 1 Axes>"
            ],
            "image/png": "[encoded data removed]"
          },
          "metadata": {}
        },
        {
          "output_type": "stream",
          "name": "stderr",
          "text": [
            "WARNING:tensorflow:6 out of the last 6 calls to <function TensorFlowTrainer.make_predict_function.<locals>.one_step_on_data_distributed at 0x7edfaf547d80> triggered tf.function retracing. Tracing is expensive and the excessive number of tracings could be due to (1) creating @tf.function repeatedly in a loop, (2) passing tensors with different shapes, (3) passing Python objects instead of tensors. For (1), please define your @tf.function outside of the loop. For (2), @tf.function has reduce_retracing=True option that can avoid unnecessary retracing. For (3), please refer to https://www.tensorflow.org/guide/function#controlling_retracing and https://www.tensorflow.org/api_docs/python/tf/function for  more details.\n"
          ]
        },
        {
          "output_type": "stream",
          "name": "stdout",
          "text": [
            "\u001b[1m1/1\u001b[0m \u001b[32m━━━━━━━━━━━━━━━━━━━━\u001b[0m\u001b[37m\u001b[0m \u001b[1m0s\u001b[0m 73ms/step\n",
            "Predicted score: 37.611702\n"
          ]
        }
      ]
    },
    {
      "cell_type": "markdown",
      "source": [
        "<div dir=\"rtl\" align=\"right\">\n",
        "\n",
        "🧠 نکات آموزشی:\n",
        "\n",
        "این مدل یک شبکه عصبی ساده با دو ورودی و سه لایه است.\n",
        "\n",
        "نمره نهایی تحت تأثیر مستقیم ساعات مطالعه و حضور در کلاس قرار دارد.\n",
        "\n",
        "ما از داده‌های فرضی استفاده کرده‌ایم که در دنیای واقعی می‌توان آن را با داده‌های واقعی جایگزین کرد.\n",
        "\n",
        "از ReLU برای فعال‌سازی و Adam برای بهینه‌سازی استفاده شده."
      ],
      "metadata": {
        "id": "l1a-1dI_RY9s"
      }
    }
  ]
}