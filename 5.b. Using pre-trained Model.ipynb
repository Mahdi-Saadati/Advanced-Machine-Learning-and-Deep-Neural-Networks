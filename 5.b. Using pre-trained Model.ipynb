{
  "nbformat": 4,
  "nbformat_minor": 0,
  "metadata": {
    "colab": {
      "provenance": [],
      "authorship_tag": "ABX9TyNr2dnceM0OfK4SITUOavBz",
      "include_colab_link": true
    },
    "kernelspec": {
      "name": "python3",
      "display_name": "Python 3"
    },
    "language_info": {
      "name": "python"
    }
  },
  "cells": [
    {
      "cell_type": "markdown",
      "metadata": {
        "id": "view-in-github",
        "colab_type": "text"
      },
      "source": [
        "<a href=\"https://colab.research.google.com/github/Mahdi-Saadati/Advanced-Machine-Learning-and-Deep-Neural-Networks/blob/main/5.b.%20Using%20pre-trained%20Model.ipynb\" target=\"_parent\"><img src=\"https://colab.research.google.com/assets/colab-badge.svg\" alt=\"Open In Colab\"/></a>"
      ]
    },
    {
      "cell_type": "markdown",
      "source": [
        "<div dir=\"rtl\" align=\"right\">\n",
        "\n",
        "پروژه تشخیص افراد سالم و افراد دارای ذات الریه از روی تصاویر پزشکی قفسه سینه به همراه بارگزاری مدل از پیش آموزش داده شده\n",
        "\n"
      ],
      "metadata": {
        "id": "Jg7D2fo_d1KP"
      }
    },
    {
      "cell_type": "code",
      "source": [
        "import keras\n",
        "import numpy as np\n",
        "from keras.utils import load_img, img_to_array\n",
        "import tkinter as tk\n",
        "from tkinter import filedialog\n",
        "\n",
        "# 1. بارگذاری مدل ذخیره شده\n",
        "model = keras.models.load_model(\"chest_xray_cnn_model_tf.keras.h5\")\n",
        "\n",
        "# 2. پارامترها\n",
        "IMG_SIZE = 150\n",
        "\n",
        "# 3. باز شدن پنجره برای انتخاب فایل (بالای همه)\n",
        "root = tk.Tk()\n",
        "root.withdraw()\n",
        "root.attributes('-topmost', True)  # بالای همه پنجره‌ها\n",
        "root.lift()\n",
        "\n",
        "img_path = filedialog.askopenfilename(\n",
        "    title=\"Select an image\",\n",
        "    filetypes=[(\"Image files\", \"*.jpg;*.jpeg;*.png\")]\n",
        ")\n",
        "\n",
        "if img_path:\n",
        "    # بارگذاری و تغییر اندازه\n",
        "    img = load_img(img_path, target_size=(IMG_SIZE, IMG_SIZE))\n",
        "    img_array = img_to_array(img) / 255.0\n",
        "    img_array = np.expand_dims(img_array, axis=0)\n",
        "\n",
        "    # پیش‌بینی\n",
        "    prediction = model.predict(img_array)\n",
        "    result = \"Pneumonia\" if prediction[0][0] > 0.5 else \"Normal\"\n",
        "\n",
        "    print(f\"Image path: {img_path}\")\n",
        "    print(f\"Prediction: {result} (confidence={prediction[0][0]:.4f})\")\n",
        "else:\n",
        "    print(\"No image selected\")\n"
      ],
      "metadata": {
        "id": "kDBVXfZFXjSh"
      },
      "execution_count": null,
      "outputs": []
    }
  ]
}