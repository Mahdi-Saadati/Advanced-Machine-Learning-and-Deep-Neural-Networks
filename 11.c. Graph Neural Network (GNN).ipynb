{
  "nbformat": 4,
  "nbformat_minor": 0,
  "metadata": {
    "colab": {
      "provenance": [],
      "gpuType": "T4",
      "authorship_tag": "ABX9TyPJwiEtDiP93sbtScSWqEV7",
      "include_colab_link": true
    },
    "kernelspec": {
      "name": "python3",
      "display_name": "Python 3"
    },
    "language_info": {
      "name": "python"
    },
    "accelerator": "GPU"
  },
  "cells": [
    {
      "cell_type": "markdown",
      "metadata": {
        "id": "view-in-github",
        "colab_type": "text"
      },
      "source": [
        "<a href=\"https://colab.research.google.com/github/Mahdi-Saadati/Advanced-Machine-Learning-and-Deep-Neural-Networks/blob/main/11.c.%20Graph%20Neural%20Network%20(GNN).ipynb\" target=\"_parent\"><img src=\"https://colab.research.google.com/assets/colab-badge.svg\" alt=\"Open In Colab\"/></a>"
      ]
    },
    {
      "cell_type": "markdown",
      "source": [
        "\n",
        "<div dir=\"rtl\" align=\"right\">\n",
        "\n",
        "📌 سناریو:\n",
        "ما شبکه‌ای از بیماران داریم. هر بیمار چند ویژگی ساده داره:\n",
        "\n",
        "فشار خون (0=نرمال، 1=بالا)\n",
        "\n",
        "قند خون (0=نرمال، 1=بالا)\n",
        "\n",
        "سن (0=جوان، 1=مسن)\n",
        "\n",
        "بعضی بیماران برچسب‌دار هستن (می‌دونیم بیماری قلبی دارن یا نه) و بقیه بدون برچسب.\n",
        "\n",
        "هدف: با استفاده از GNN پیش‌بینی کنیم کدام بیماران بیماری قلبی دارند."
      ],
      "metadata": {
        "id": "MOFgKTwxUg0k"
      }
    },
    {
      "cell_type": "code",
      "source": [
        "import torch                      # کتابخانه اصلی PyTorch\n",
        "import torch.nn as nn             # تعریف شبکه‌های عصبی\n",
        "import torch.nn.functional as F   # توابع آماده مثل ReLU و softmax\n",
        "from torch_geometric.nn import GCNConv  # لایه GCN مخصوص گراف\n",
        "from torch_geometric.data import Data   # ساختار داده گراف در PyG\n",
        "\n",
        "# -----------------------------\n",
        "# 1. تعریف گراف بیماران\n",
        "# -----------------------------\n",
        "\n",
        "# ویژگی بیماران (3 ویژگی: فشار خون, قند خون, سن)\n",
        "# هر سطر = یک بیمار، هر ستون = یک ویژگی\n",
        "x = torch.tensor([[1.0, 0.0, 1.0],   # بیمار 0: فشار بالا، قند نرمال، مسن\n",
        "                  [0.0, 1.0, 0.0],   # بیمار 1: فشار نرمال، قند بالا، جوان\n",
        "                  [1.0, 1.0, 1.0],   # بیمار 2: فشار بالا، قند بالا، مسن\n",
        "                  [0.0, 0.0, 0.0]],  # بیمار 3: همه نرمال\n",
        "                 dtype=torch.float)\n",
        "\n",
        "# روابط بیماران (مثلاً افراد در خانواده یا محیط مشترک)\n",
        "# edge_index: 2×E (E=تعداد یال‌ها)\n",
        "# هر ستون = یک یال (from → to)\n",
        "edge_index = torch.tensor([[0, 1, 2, 3, 0, 2],   # مبدا\n",
        "                           [1, 0, 3, 2, 2, 0]],  # مقصد\n",
        "                          dtype=torch.long)\n",
        "\n",
        "# برچسب بیماری قلبی (0=سالم, 1=بیمار)\n",
        "y = torch.tensor([1, 0, 1, 0], dtype=torch.long)\n",
        "\n",
        "# فرض کنید فقط بیمار 0 و 1 داده آموزشی دارند\n",
        "train_mask = torch.tensor([True, True, False, False])\n",
        "\n",
        "# ساخت گراف با داده‌ها\n",
        "data = Data(x=x, edge_index=edge_index, y=y, train_mask=train_mask)\n",
        "\n",
        "# -----------------------------\n",
        "# 2. تعریف مدل GCN\n",
        "# -----------------------------\n",
        "class GCN(nn.Module):\n",
        "    def __init__(self):\n",
        "        super(GCN, self).__init__()\n",
        "        # لایه اول: ورودی=3 ویژگی → 8 نورون مخفی\n",
        "        self.conv1 = GCNConv(3, 8)\n",
        "        # لایه دوم: خروجی=2 کلاس (بیمار یا سالم)\n",
        "        self.conv2 = GCNConv(8, 2)\n",
        "\n",
        "    def forward(self, x, edge_index):\n",
        "        # اجرای لایه اول GCN\n",
        "        x = self.conv1(x, edge_index)\n",
        "        # اعمال تابع فعال‌سازی ReLU\n",
        "        x = F.relu(x)\n",
        "        # اجرای لایه دوم GCN\n",
        "        x = self.conv2(x, edge_index)\n",
        "        # تابع softmax برای احتمال هر کلاس\n",
        "        return F.log_softmax(x, dim=1)\n",
        "\n",
        "# ساخت مدل\n",
        "model = GCN()\n",
        "# تعریف بهینه‌ساز Adam\n",
        "optimizer = torch.optim.Adam(model.parameters(), lr=0.01)\n",
        "\n",
        "# -----------------------------\n",
        "# 3. آموزش مدل\n",
        "# -----------------------------\n",
        "for epoch in range(100):\n",
        "    model.train()                # حالت آموزش\n",
        "    optimizer.zero_grad()        # صفر کردن گرادیان‌ها\n",
        "    out = model(data.x, data.edge_index)  # پیش‌بینی خروجی\n",
        "    # محاسبه خطا فقط روی گره‌های آموزشی\n",
        "    loss = F.nll_loss(out[data.train_mask], data.y[data.train_mask])\n",
        "    loss.backward()              # محاسبه گرادیان‌ها\n",
        "    optimizer.step()             # بروزرسانی وزن‌ها\n",
        "    if epoch % 20 == 0:\n",
        "        print(f\"Epoch {epoch}, Loss = {loss:.4f}\")\n",
        "\n",
        "# -----------------------------\n",
        "# 4. تست مدل\n",
        "# -----------------------------\n",
        "model.eval()                     # حالت تست\n",
        "# پیش‌بینی کلاس هر بیمار\n",
        "pred = model(data.x, data.edge_index).argmax(dim=1)\n",
        "\n",
        "# چاپ نتایج\n",
        "print(\"\\nThe actual condition of the patients:\", data.y.tolist()) #وضعیت واقعی بیماران\n",
        "print(\"Model predicted:\", pred.tolist())"
      ],
      "metadata": {
        "colab": {
          "base_uri": "https://localhost:8080/"
        },
        "id": "q-o60dowDmcP",
        "outputId": "13c3a0fc-bc96-42e7-854d-6eeff2166b04"
      },
      "execution_count": 23,
      "outputs": [
        {
          "output_type": "stream",
          "name": "stdout",
          "text": [
            "Epoch 0, Loss = 0.7064\n",
            "Epoch 20, Loss = 0.6576\n",
            "Epoch 40, Loss = 0.6029\n",
            "Epoch 60, Loss = 0.5286\n",
            "Epoch 80, Loss = 0.4306\n",
            "\n",
            "The actual condition of the patients: [1, 0, 1, 0]\n",
            "Model predicted: [1, 0, 1, 1]\n"
          ]
        }
      ]
    },
    {
      "cell_type": "markdown",
      "source": [
        "<div dir=\"rtl\" align=\"right\">\n",
        "\n",
        "📊 تفسیر:\n",
        "\n",
        "هر بیمار (گره) سه ویژگی داره: فشار خون، قند خون، سن.\n",
        "\n",
        "مدل با اطلاعات بیماران برچسب‌خورده (بیمار 0 و 1) آموزش می‌بینه.\n",
        "\n",
        "بعدش برای بیماران ناشناخته (بیمار 2 و 3) پیش‌بینی می‌کنه.\n",
        "\n",
        "در پروژه واقعی می‌شه ویژگی‌های بیشتر (BMI، کلسترول، سابقه خانوادگی و...) و گراف بزرگ‌تر داشت."
      ],
      "metadata": {
        "id": "UZwpzDlhF9tA"
      }
    }
  ]
}