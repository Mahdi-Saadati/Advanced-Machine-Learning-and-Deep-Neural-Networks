{
  "nbformat": 4,
  "nbformat_minor": 0,
  "metadata": {
    "colab": {
      "provenance": [],
      "gpuType": "T4",
      "authorship_tag": "ABX9TyPpvKan2uMXPrdTqGUtgN4X",
      "include_colab_link": true
    },
    "kernelspec": {
      "name": "python3",
      "display_name": "Python 3"
    },
    "language_info": {
      "name": "python"
    },
    "accelerator": "GPU"
  },
  "cells": [
    {
      "cell_type": "markdown",
      "metadata": {
        "id": "view-in-github",
        "colab_type": "text"
      },
      "source": [
        "<a href=\"https://colab.research.google.com/github/Mahdi-Saadati/Advanced-Machine-Learning-and-Deep-Neural-Networks/blob/main/10.a.Large%20Language%20Model%20(LLM).ipynb\" target=\"_parent\"><img src=\"https://colab.research.google.com/assets/colab-badge.svg\" alt=\"Open In Colab\"/></a>"
      ]
    },
    {
      "cell_type": "code",
      "source": [
        "# نصب کتابخانه مورد نیاز (اگر نصب نشده باشد)\n",
        "# pip install transformers torch\n",
        "\n",
        "from transformers import AutoModelForCausalLM, AutoTokenizer\n",
        "\n",
        "# نام مدل (برای مثال از مدل سبک GPT-2 استفاده می‌کنیم)\n",
        "model_name = \"gpt2\"\n",
        "\n",
        "# بارگذاری توکنایزر و مدل\n",
        "tokenizer = AutoTokenizer.from_pretrained(model_name)\n",
        "model = AutoModelForCausalLM.from_pretrained(model_name)\n",
        "\n",
        "# متن ورودی (prompt)\n",
        "prompt = \"Machine learning in healthcare is important because\"\n",
        "\n",
        "# تبدیل متن به توکن\n",
        "inputs = tokenizer(prompt, return_tensors=\"pt\")\n",
        "\n",
        "# تولید متن توسط مدل\n",
        "outputs = model.generate(inputs[\"input_ids\"], max_length=50, num_return_sequences=1)\n",
        "\n",
        "# تبدیل توکن‌ها به متن خوانا\n",
        "generated_text = tokenizer.decode(outputs[0], skip_special_tokens=True)\n",
        "\n",
        "print(generated_text)"
      ],
      "metadata": {
        "colab": {
          "base_uri": "https://localhost:8080/"
        },
        "id": "-TsBeLiWx8yN",
        "outputId": "3bbcee26-e36f-44ff-9120-d0cabb53b17c"
      },
      "execution_count": 2,
      "outputs": [
        {
          "output_type": "stream",
          "name": "stderr",
          "text": [
            "The attention mask and the pad token id were not set. As a consequence, you may observe unexpected behavior. Please pass your input's `attention_mask` to obtain reliable results.\n",
            "Setting `pad_token_id` to `eos_token_id`:50256 for open-end generation.\n"
          ]
        },
        {
          "output_type": "stream",
          "name": "stdout",
          "text": [
            "Machine learning in healthcare is important because it allows us to understand the health of patients and their care.\n",
            "\n",
            "The first step in this process is to understand the patient's health history. This is important because it allows us to understand the health of patients\n"
          ]
        }
      ]
    }
  ]
}