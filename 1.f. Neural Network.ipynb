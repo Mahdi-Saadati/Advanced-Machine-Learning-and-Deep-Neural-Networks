{
  "nbformat": 4,
  "nbformat_minor": 0,
  "metadata": {
    "colab": {
      "provenance": [],
      "authorship_tag": "ABX9TyNWw6YTS5HSM8Y+YnoFx6it",
      "include_colab_link": true
    },
    "kernelspec": {
      "name": "python3",
      "display_name": "Python 3"
    },
    "language_info": {
      "name": "python"
    }
  },
  "cells": [
    {
      "cell_type": "markdown",
      "metadata": {
        "id": "view-in-github",
        "colab_type": "text"
      },
      "source": [
        "<a href=\"https://colab.research.google.com/github/Mahdi-Saadati/Machine-Learning-2/blob/main/1.f.%20Neural%20Network.ipynb\" target=\"_parent\"><img src=\"https://colab.research.google.com/assets/colab-badge.svg\" alt=\"Open In Colab\"/></a>"
      ]
    },
    {
      "cell_type": "markdown",
      "source": [
        "<div dir=\"rtl\" align=\"right\">\n",
        "تشخیص بیماری قلبی با شبکه عصبی:\n"
      ],
      "metadata": {
        "id": "hZrWzh0BrukD"
      }
    },
    {
      "cell_type": "code",
      "source": [
        "import pandas as pd\n",
        "import numpy as np\n",
        "from sklearn.model_selection import train_test_split\n",
        "from sklearn.preprocessing import StandardScaler\n",
        "from tensorflow import keras\n",
        "\n",
        "# --- بارگذاری دیتاست ---\n",
        "data = pd.read_csv('Data/heart.csv')\n",
        "\n",
        "# --- جدا کردن ویژگی‌ها و برچسب‌ها ---\n",
        "X = data.drop('target', axis=1)     # حذف ستون برچسب (هدف)\n",
        "y = data['target']                  # برچسب‌ها: 1 = بیمار، 0 = سالم\n",
        "\n",
        "# --- نرمال‌سازی داده‌ها ---\n",
        "scaler = StandardScaler()\n",
        "X = scaler.fit_transform(X)\n",
        "\n",
        "# --- تبدیل برچسب‌ها به one-hot ---\n",
        "y = keras.utils.to_categorical(y, num_classes=2)\n",
        "\n",
        "# --- تقسیم داده به آموزش و تست ---\n",
        "x_train, x_test, y_train, y_test = train_test_split(X, y, test_size=0.2, random_state=42)\n",
        "\n",
        "# --- ساخت مدل ---\n",
        "model = keras.models.Sequential()\n",
        "model.add(keras.layers.Dense(64, input_dim=X.shape[1]))   # ورودی‌ها به تعداد ستون‌های دیتاست\n",
        "model.add(keras.layers.Activation('relu'))\n",
        "\n",
        "model.add(keras.layers.Dense(32))\n",
        "model.add(keras.layers.Activation('relu'))\n",
        "\n",
        "model.add(keras.layers.Dense(2))\n",
        "model.add(keras.layers.Activation('softmax'))\n",
        "\n",
        "model.summary()\n",
        "\n",
        "# --- تنظیم مدل ---\n",
        "model.compile(optimizer=keras.optimizers.Adam(learning_rate=0.001),\n",
        "              loss='binary_crossentropy',\n",
        "              metrics=['accuracy'])\n",
        "\n",
        "# --- آموزش مدل ---\n",
        "model.fit(x_train, y_train, epochs=50, batch_size=32, verbose=1)\n",
        "\n",
        "# --- ارزیابی مدل ---\n",
        "score = model.evaluate(x_test, y_test, verbose=0)\n",
        "print(\"Test Loss:\", score[0])\n",
        "print(\"Test Accuracy:\", score[1])"
      ],
      "metadata": {
        "id": "NLWU9QYesTXc"
      },
      "execution_count": null,
      "outputs": []
    }
  ]
}