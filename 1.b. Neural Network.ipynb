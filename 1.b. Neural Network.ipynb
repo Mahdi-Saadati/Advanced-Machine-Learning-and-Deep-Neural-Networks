{
  "nbformat": 4,
  "nbformat_minor": 0,
  "metadata": {
    "colab": {
      "provenance": [],
      "authorship_tag": "ABX9TyNP8nA/genjtM1LK1XZjVfV",
      "include_colab_link": true
    },
    "kernelspec": {
      "name": "python3",
      "display_name": "Python 3"
    },
    "language_info": {
      "name": "python"
    }
  },
  "cells": [
    {
      "cell_type": "markdown",
      "metadata": {
        "id": "view-in-github",
        "colab_type": "text"
      },
      "source": [
        "<a href=\"https://colab.research.google.com/github/Mahdi-Saadati/Machine-Learning-2/blob/main/1.b.%20Neural%20Network.ipynb\" target=\"_parent\"><img src=\"https://colab.research.google.com/assets/colab-badge.svg\" alt=\"Open In Colab\"/></a>"
      ]
    },
    {
      "cell_type": "markdown",
      "source": [
        "<div dir=\"rtl\" align=\"right\">\n",
        "یک شبکه عصبی ساده که یاد می‌گیرد بر اساس ساعت مطالعه بگوید دانش‌آموز قبول ✅ می‌شود یا رد ❌.\n",
        "\n"
      ],
      "metadata": {
        "id": "hZrWzh0BrukD"
      }
    },
    {
      "cell_type": "code",
      "source": [
        "import numpy as np\n",
        "from tensorflow.keras.models import Sequential\n",
        "from tensorflow.keras.layers import Dense\n",
        "\n",
        "# داده‌های آموزشی\n",
        "hours = np.array([[1],[2],[3],[4],[5],[6],[7],[8]], dtype=float)\n",
        "passed = np.array([[0],[0],[0],[0],[1],[1],[1],[1]], dtype=float)\n",
        "\n",
        "# ساخت یک شبکه عصبی ساده\n",
        "model = Sequential([\n",
        "    Dense(4, input_shape=[1], activation='relu'),  # لایه پنهان\n",
        "    Dense(1, activation='sigmoid')                # خروجی (احتمال بین 0 و 1)\n",
        "])\n",
        "\n",
        "# کامپایل مدل\n",
        "model.compile(optimizer='adam', loss='binary_crossentropy', metrics=['accuracy'])\n",
        "\n",
        "# آموزش مدل\n",
        "model.fit(hours, passed, epochs=500, verbose=0)\n",
        "\n",
        "# تست مدل\n",
        "test_hour = np.array([[3.5]])\n",
        "prob = model.predict(test_hour)[0][0]\n",
        "print(f\"if study {test_hour[0][0]} hours\") #اگر ؟ ساعت درس بخوانی\n",
        "print(f\"Probability of acceptance: {prob*100:.1f}%\") #احتمال قبول شدن\n",
        "print(\"Final result:\", \"Accept \" if prob>0.5 else \"Reject\") #نتیجه‌ی نهایی\n"
      ],
      "metadata": {
        "colab": {
          "base_uri": "https://localhost:8080/"
        },
        "id": "NLWU9QYesTXc",
        "outputId": "99285f94-ee41-425b-fb97-7c546d1bfca5"
      },
      "execution_count": 30,
      "outputs": [
        {
          "output_type": "stream",
          "name": "stdout",
          "text": [
            "\u001b[1m1/1\u001b[0m \u001b[32m━━━━━━━━━━━━━━━━━━━━\u001b[0m\u001b[37m\u001b[0m \u001b[1m0s\u001b[0m 63ms/step\n",
            "if study 3.5 hours\n",
            "Probability of acceptance: 55.7%\n",
            "Final result: Accept \n"
          ]
        }
      ]
    }
  ]
}