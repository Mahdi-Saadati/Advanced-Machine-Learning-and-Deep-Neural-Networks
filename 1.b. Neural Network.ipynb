{
  "nbformat": 4,
  "nbformat_minor": 0,
  "metadata": {
    "colab": {
      "provenance": [],
      "authorship_tag": "ABX9TyP3cuw6QbxEOcZV9JHjCkpe",
      "include_colab_link": true
    },
    "kernelspec": {
      "name": "python3",
      "display_name": "Python 3"
    },
    "language_info": {
      "name": "python"
    }
  },
  "cells": [
    {
      "cell_type": "markdown",
      "metadata": {
        "id": "view-in-github",
        "colab_type": "text"
      },
      "source": [
        "<a href=\"https://colab.research.google.com/github/Mahdi-Saadati/Machine-Learning-2/blob/main/1.b.%20Neural%20Network.ipynb\" target=\"_parent\"><img src=\"https://colab.research.google.com/assets/colab-badge.svg\" alt=\"Open In Colab\"/></a>"
      ]
    },
    {
      "cell_type": "markdown",
      "source": [
        "<div dir=\"rtl\" align=\"right\">\n",
        "یک شبکه عصبی ساده که یاد می‌گیرد بر اساس ساعت مطالعه بگوید دانش‌آموز قبول ✅ می‌شود یا رد ❌.\n",
        "\n",
        "برای مثال، اگر ۳.۵ ساعت بخواند، مدل پیش‌بینی می‌کند چقدر احتمال دارد که قبول شود.\n",
        "\n",
        "\n"
      ],
      "metadata": {
        "id": "hZrWzh0BrukD"
      }
    },
    {
      "cell_type": "code",
      "source": [
        "import numpy as np  # وارد کردن کتابخانه numpy برای کار با آرایه‌ها\n",
        "from tensorflow.keras.models import Sequential  # وارد کردن مدل ترتیبی از Keras\n",
        "from tensorflow.keras.layers import Dense       # وارد کردن لایه Dense (کاملاً متصل)\n",
        "\n",
        "# داده‌های آموزشی\n",
        "hours = np.array([[1],[2],[3],[4],[5],[6],[7],[8]], dtype=float)  # ساعات مطالعه برای هر دانش‌آموز\n",
        "passed = np.array([[0],[0],[0],[0],[1],[1],[1],[1]], dtype=float) # قبول یا رد شدن (0 = رد، 1 = قبول)\n",
        "\n",
        "# ساخت یک شبکه عصبی ساده\n",
        "model = Sequential([                                # ایجاد یک مدل ترتیبی\n",
        "    Dense(4, input_shape=[1], activation='relu'),   # لایه پنهان با ۴ نورون، ورودی با ۱ ویژگی، تابع فعال‌سازی ReLU\n",
        "    Dense(1, activation='sigmoid')                  # لایه خروجی با ۱ نورون و تابع فعال‌سازی سیگموید (برای خروجی بین ۰ و ۱)\n",
        "])\n",
        "\n",
        "# کامپایل مدل\n",
        "model.compile(optimizer='adam',                     # استفاده از بهینه‌ساز Adam\n",
        "              loss='binary_crossentropy',           # تابع خطای مناسب برای طبقه‌بندی دوتایی\n",
        "              metrics=['accuracy'])                 # محاسبه دقت حین آموزش\n",
        "\n",
        "# آموزش مدل\n",
        "model.fit(hours, passed, epochs=500, verbose=0)     # آموزش مدل برای ۵۰۰ دوره بدون نمایش جزئیات (verbose=0)\n",
        "\n",
        "# تست مدل\n",
        "test_hour = np.array([[3.5]])                       # مقدار ورودی جدید برای پیش‌بینی (مثلاً ۳.۵ ساعت مطالعه)\n",
        "prob = model.predict(test_hour)[0][0]               # پیش‌بینی احتمال قبولی برای ساعت مطالعه ۳.۵\n",
        "\n",
        "print(f\"if study {test_hour[0][0]} hours\")          # نمایش ساعت مطالعه\n",
        "print(f\"Probability of acceptance: {prob*100:.1f}%\") # نمایش احتمال قبولی به درصد با یک رقم اعشار\n",
        "print(\"Final result:\", \"Accept \" if prob>0.5 else \"Reject\")  # نتیجه نهایی: اگر احتمال بالاتر از ۰.۵ بود => Accept\n"
      ],
      "metadata": {
        "colab": {
          "base_uri": "https://localhost:8080/"
        },
        "id": "NLWU9QYesTXc",
        "outputId": "99285f94-ee41-425b-fb97-7c546d1bfca5"
      },
      "execution_count": null,
      "outputs": [
        {
          "output_type": "stream",
          "name": "stdout",
          "text": [
            "\u001b[1m1/1\u001b[0m \u001b[32m━━━━━━━━━━━━━━━━━━━━\u001b[0m\u001b[37m\u001b[0m \u001b[1m0s\u001b[0m 63ms/step\n",
            "if study 3.5 hours\n",
            "Probability of acceptance: 55.7%\n",
            "Final result: Accept \n"
          ]
        }
      ]
    }
  ]
}