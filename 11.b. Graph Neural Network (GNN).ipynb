{
  "nbformat": 4,
  "nbformat_minor": 0,
  "metadata": {
    "colab": {
      "provenance": [],
      "gpuType": "T4",
      "authorship_tag": "ABX9TyNI5ObyGKwWYQkRtPk7pcbD",
      "include_colab_link": true
    },
    "kernelspec": {
      "name": "python3",
      "display_name": "Python 3"
    },
    "language_info": {
      "name": "python"
    },
    "accelerator": "GPU"
  },
  "cells": [
    {
      "cell_type": "markdown",
      "metadata": {
        "id": "view-in-github",
        "colab_type": "text"
      },
      "source": [
        "<a href=\"https://colab.research.google.com/github/Mahdi-Saadati/Advanced-Machine-Learning-and-Deep-Neural-Networks/blob/main/11.b.%20Graph%20Neural%20Network%20(GNN).ipynb\" target=\"_parent\"><img src=\"https://colab.research.google.com/assets/colab-badge.svg\" alt=\"Open In Colab\"/></a>"
      ]
    },
    {
      "cell_type": "markdown",
      "source": [
        "\n",
        "<div dir=\"rtl\" align=\"right\">\n",
        "\n",
        "یک مثال ساده پزشکی  که از GNN استفاده می‌کند و شبکه‌ی تعامل ژن‌ها یا پروتئین‌ها را مدل می‌کند."
      ],
      "metadata": {
        "id": "MOFgKTwxUg0k"
      }
    },
    {
      "cell_type": "code",
      "source": [
        "import torch\n",
        "import torch.nn as nn\n",
        "import torch.nn.functional as F\n",
        "from torch_geometric.nn import GCNConv\n",
        "from torch_geometric.data import Data\n",
        "\n",
        "# ---------------- داده پزشکی (مثال شبکه پروتئین‌ها) ----------------\n",
        "# فرض کنید 5 پروتئین داریم و هر پروتئین دو ویژگی دارد:\n",
        "# مثلا ویژگی‌ها می‌توانند بیان ژن یا فعالیت بیوشیمیایی باشند\n",
        "x = torch.tensor([[0.8, 0.1],   # پروتئین 0\n",
        "                  [0.3, 0.7],   # پروتئین 1\n",
        "                  [0.5, 0.4],   # پروتئین 2\n",
        "                  [0.9, 0.2],   # پروتئین 3\n",
        "                  [0.2, 0.9]],  # پروتئین 4\n",
        "                 dtype=torch.float)\n",
        "\n",
        "# یال‌ها نشان‌دهنده تعامل پروتئین‌ها هستند\n",
        "# مثلا 0 با 1 و 2 تعامل دارد، 2 با 3 و 4 و ...\n",
        "edge_index = torch.tensor([[0, 0, 1, 2, 2, 3, 4],   # from\n",
        "                           [1, 2, 2, 0, 3, 4, 2]],  # to\n",
        "                          dtype=torch.long)\n",
        "\n",
        "# ساختار گراف\n",
        "data = Data(x=x, edge_index=edge_index)\n",
        "\n",
        "# ---------------- تعریف مدل GCN ----------------\n",
        "class ProteinGCN(nn.Module):\n",
        "    def __init__(self):\n",
        "        super(ProteinGCN, self).__init__()\n",
        "        # لایه GCN ساده: از 2 ویژگی ورودی → 2 ویژگی خروجی\n",
        "        self.conv1 = GCNConv(2, 2)\n",
        "\n",
        "    def forward(self, x, edge_index):\n",
        "        x = self.conv1(x, edge_index)\n",
        "        return F.relu(x)  # فعال‌سازی ReLU\n",
        "\n",
        "# ساخت مدل\n",
        "model = ProteinGCN()\n",
        "\n",
        "# اجرای مدل روی شبکه پروتئین‌ها\n",
        "out = model(data.x, data.edge_index)\n",
        "\n",
        "# چاپ ویژگی‌های جدید پروتئین‌ها\n",
        "print(\"New features of proteins after GCN:\")\n",
        "print(out)\n"
      ],
      "metadata": {
        "colab": {
          "base_uri": "https://localhost:8080/"
        },
        "id": "q-o60dowDmcP",
        "outputId": "3281be37-56e9-4fa5-872d-d17f300ada98"
      },
      "execution_count": 17,
      "outputs": [
        {
          "output_type": "stream",
          "name": "stdout",
          "text": [
            "New features of proteins after GCN:\n",
            "tensor([[0.0000, 0.0000],\n",
            "        [0.0000, 0.0548],\n",
            "        [0.0000, 0.1461],\n",
            "        [0.0000, 0.0000],\n",
            "        [0.0000, 0.1026]], grad_fn=<ReluBackward0>)\n"
          ]
        }
      ]
    },
    {
      "cell_type": "markdown",
      "source": [
        "<div dir=\"rtl\" align=\"right\">\n",
        "\n",
        "🔹 توضیح ساده پزشکی:\n",
        "\n",
        "هر گره = یک پروتئین\n",
        "\n",
        "هر ویژگی گره = بیان ژن یا فعالیت پروتئین\n",
        "\n",
        "هر یال = تعامل یا ارتباط بین پروتئین‌ها\n",
        "\n",
        "GCN = اطلاعات هر پروتئین + همسایه‌هایش را ترکیب می‌کند تا ویژگی‌های جدید پیدا شود\n"
      ],
      "metadata": {
        "id": "UZwpzDlhF9tA"
      }
    }
  ]
}