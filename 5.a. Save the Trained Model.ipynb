{
  "nbformat": 4,
  "nbformat_minor": 0,
  "metadata": {
    "colab": {
      "provenance": [],
      "authorship_tag": "ABX9TyNGYV2MYmwyacWae7pOr8c5",
      "include_colab_link": true
    },
    "kernelspec": {
      "name": "python3",
      "display_name": "Python 3"
    },
    "language_info": {
      "name": "python"
    }
  },
  "cells": [
    {
      "cell_type": "markdown",
      "metadata": {
        "id": "view-in-github",
        "colab_type": "text"
      },
      "source": [
        "<a href=\"https://colab.research.google.com/github/Mahdi-Saadati/Advanced-Machine-Learning-and-Deep-Neural-Networks/blob/main/5.a.%20Save%20the%20Trained%20Model.ipynb\" target=\"_parent\"><img src=\"https://colab.research.google.com/assets/colab-badge.svg\" alt=\"Open In Colab\"/></a>"
      ]
    },
    {
      "cell_type": "markdown",
      "source": [
        "<div dir=\"rtl\" align=\"right\">\n",
        "\n",
        "پروژه تشخیص افراد سالم و افراد دارای ذات الریه از روی تصاویر پزشکی قفسه سینه به همراه ذخیره مدل آموزش دیده شده\n",
        "\n",
        "یکی از دیتاست‌های رایج و آزاد در حوزه پزشکی، دیتاست Chest X-Ray (Pneumonia) هست که شامل تصاویر سالم (Normal) و مبتلا به ذات‌الریه (Pneumonia) میباشد.\n",
        "دیتاست را میتوانید از لینک زیر دانلود کنید:\n",
        "\n",
        "https://www.kaggle.com/datasets/paultimothymooney/chest-xray-pneumonia"
      ],
      "metadata": {
        "id": "Jg7D2fo_d1KP"
      }
    },
    {
      "cell_type": "code",
      "source": [
        "# 1. وارد کردن کتابخانه‌ها\n",
        "import tensorflow as tf  # برای ساخت و آموزش مدل‌های یادگیری عمیق\n",
        "from keras import layers, models  # برای ساخت لایه‌ها و مدل‌های شبکه عصبی\n",
        "\n",
        "# 2. مسیر پوشه‌های داده\n",
        "train_dir = \"chest_xray/train\"  # تصاویر آموزش\n",
        "val_dir   = \"chest_xray/val\"    # تصاویر اعتبارسنجی\n",
        "test_dir  = \"chest_xray/test\"   # تصاویر تست\n",
        "\n",
        "# 3. تعریف پارامترها\n",
        "IMG_SIZE = 150   # اندازه تصاویر: 150x150 پیکسل\n",
        "BATCH_SIZE = 32  # تعداد تصاویر در هر بسته (batch)\n",
        "\n",
        "# 4. ساخت Dataset آموزش\n",
        "train_ds = tf.keras.utils.image_dataset_from_directory(\n",
        "    train_dir,               # مسیر داده‌ها\n",
        "    image_size=(IMG_SIZE, IMG_SIZE),  # تغییر اندازه تصاویر\n",
        "    batch_size=BATCH_SIZE,           # تعداد تصاویر در هر batch\n",
        "    label_mode='binary',             # برچسب‌ها دودویی: Normal=0 یا Pneumonia=1\n",
        "    shuffle=True                     # تصاویر به صورت تصادفی مرتب شوند\n",
        ")\n",
        "\n",
        "# 5. ساخت Dataset اعتبارسنجی\n",
        "val_ds = tf.keras.utils.image_dataset_from_directory(\n",
        "    val_dir,\n",
        "    image_size=(IMG_SIZE, IMG_SIZE),\n",
        "    batch_size=BATCH_SIZE,\n",
        "    label_mode='binary'\n",
        ")\n",
        "\n",
        "# 6. ساخت Dataset تست\n",
        "test_ds = tf.keras.utils.image_dataset_from_directory(\n",
        "    test_dir,\n",
        "    image_size=(IMG_SIZE, IMG_SIZE),\n",
        "    batch_size=BATCH_SIZE,\n",
        "    label_mode='binary'\n",
        ")\n",
        "\n",
        "# 7. نرمال‌سازی تصاویر (پیکسل‌ها از 0-255 به 0-1 تبدیل شوند)\n",
        "normalization_layer = layers.Rescaling(1./255)\n",
        "train_ds = train_ds.map(lambda x, y: (normalization_layer(x), y))\n",
        "val_ds   = val_ds.map(lambda x, y: (normalization_layer(x), y))\n",
        "test_ds  = test_ds.map(lambda x, y: (normalization_layer(x), y))\n",
        "\n",
        "# 8. ساخت مدل CNN\n",
        "model = models.Sequential([\n",
        "    # لایه کانولوشن 32 فیلتر 3x3 + فعال‌سازی ReLU\n",
        "    layers.Conv2D(32, (3,3), activation='relu', input_shape=(IMG_SIZE, IMG_SIZE, 3)),\n",
        "    layers.MaxPooling2D(2,2),  # کاهش ابعاد با max pooling 2x2\n",
        "\n",
        "    layers.Conv2D(64, (3,3), activation='relu'),\n",
        "    layers.MaxPooling2D(2,2),\n",
        "\n",
        "    layers.Conv2D(128, (3,3), activation='relu'),\n",
        "    layers.MaxPooling2D(2,2),\n",
        "\n",
        "    layers.Flatten(),            # تبدیل داده‌ها به یک بردار 1 بعدی\n",
        "    layers.Dense(128, activation='relu'),  # لایه Dense با 128 نورون\n",
        "    layers.Dropout(0.5),        # کاهش overfitting با حذف تصادفی 50٪ نورون‌ها\n",
        "    layers.Dense(1, activation='sigmoid')  # خروجی: احتمال Pneumonia\n",
        "])\n",
        "\n",
        "# 9. کامپایل مدل\n",
        "model.compile(\n",
        "    optimizer='adam',                 # بهینه‌ساز Adam\n",
        "    loss='binary_crossentropy',       # تابع خطای دودویی\n",
        "    metrics=['accuracy']              # دقت مدل\n",
        ")\n",
        "\n",
        "# 10. آموزش مدل\n",
        "history = model.fit(\n",
        "    train_ds,           # داده‌های آموزش\n",
        "    validation_data=val_ds,  # داده‌های اعتبارسنجی\n",
        "    epochs=10           # تعداد دورهای آموزش\n",
        ")\n",
        "\n",
        "# 11. ارزیابی مدل روی داده تست\n",
        "loss, acc = model.evaluate(test_ds)\n",
        "print(f\"Test Accuracy: {acc*100:.2f}%\")  # نمایش دقت\n",
        "\n",
        "# 12. ذخیره مدل آموزش دیده\n",
        "model.save(\"chest_xray_cnn_model_tf.keras.h5\")\n"
      ],
      "metadata": {
        "id": "kDBVXfZFXjSh"
      },
      "execution_count": null,
      "outputs": []
    }
  ]
}