{
  "nbformat": 4,
  "nbformat_minor": 0,
  "metadata": {
    "colab": {
      "provenance": [],
      "authorship_tag": "ABX9TyN2klrkbGewGvzmValxt8Ti",
      "include_colab_link": true
    },
    "kernelspec": {
      "name": "python3",
      "display_name": "Python 3"
    },
    "language_info": {
      "name": "python"
    }
  },
  "cells": [
    {
      "cell_type": "markdown",
      "metadata": {
        "id": "view-in-github",
        "colab_type": "text"
      },
      "source": [
        "<a href=\"https://colab.research.google.com/github/Mahdi-Saadati/Machine-Learning-2/blob/main/3.c.%20Convolutional%20Neural%20Network%20(CNN).ipynb\" target=\"_parent\"><img src=\"https://colab.research.google.com/assets/colab-badge.svg\" alt=\"Open In Colab\"/></a>"
      ]
    },
    {
      "cell_type": "markdown",
      "source": [
        "<div dir=\"rtl\" align=\"right\">\n",
        "تشخیص ارقام دستنویس از روی دیتاست بارگزاری شده بر روی کامپیوتر"
      ],
      "metadata": {
        "id": "Jg7D2fo_d1KP"
      }
    },
    {
      "cell_type": "code",
      "source": [
        "import numpy as np                     # کتابخانه عددی برای آرایه‌ها و محاسبات\n",
        "import matplotlib.pyplot as plt        # برای رسم نمودارها\n",
        "import os                              # کار با مسیرها و فایل‌ها\n",
        "from imutils import paths              # برای گرفتن مسیر تمام تصاویر داخل یک پوشه\n",
        "import cv2                             # کتابخانه OpenCV برای پردازش تصویر\n",
        "from keras import backend as K         # بک‌اند Keras برای تنظیمات داخلی\n",
        "from sklearn.model_selection import train_test_split  # تقسیم داده‌ها به آموزش/تست\n",
        "from keras.utils import to_categorical # برای تبدیل برچسب‌ها به دسته‌ای (one-hot)\n",
        "from keras.models import Sequential    # ساخت مدل ترتیبی شبکه عصبی\n",
        "from keras.layers import Conv2D        # لایه کانولوشن\n",
        "from keras.layers import MaxPooling2D  # لایه Pooling\n",
        "from keras.layers import Flatten       # تخت کردن (تبدیل 2D به 1D)\n",
        "from keras.layers import Dense         # لایه کاملاً متصل\n",
        "from keras.layers import Dropout       # جلوگیری از overfitting\n",
        "from keras.optimizers import Adam      # بهینه‌ساز آدم\n",
        "\n",
        "# تابع برای بارگذاری دیتاست تصاویر\n",
        "def Loading_Image_dataset(Link):\n",
        "    Img_dataset = []                          # لیست تصاویر\n",
        "    Img_labels = []                           # لیست برچسب‌ها\n",
        "    imagePaths = list(paths.list_images(Link)) # گرفتن تمام مسیرهای تصاویر\n",
        "    for imagePath in imagePaths:               # پیمایش تک‌تک تصاویر\n",
        "       image = cv2.imread(imagePath, cv2.IMREAD_UNCHANGED)  # خواندن تصویر\n",
        "       label = int(imagePath.split(os.path.sep)[-2])        # پوشه قبل از تصویر = برچسب\n",
        "       image = image.astype('float32')        # تبدیل نوع داده به float32\n",
        "       Img_dataset.append(image)              # افزودن تصویر به لیست\n",
        "       Img_labels.append(label)               # افزودن برچسب به لیست\n",
        "    Img_dataset_array = np.asarray(Img_dataset) # لیست → آرایه numpy\n",
        "    Img_labels_array = np.asarray(Img_labels)   # لیست → آرایه numpy\n",
        "    return Img_dataset_array, Img_labels_array  # خروجی: داده‌ها و برچسب‌ها\n",
        "\n",
        "\n",
        "Link = \"DigitDataset\"                  # مسیر دیتاست\n",
        "X, L = Loading_Image_dataset(Link)     # بارگذاری تصاویر و برچسب‌ها\n",
        "\n",
        "# بررسی نوع کانال تصویر (channels_first یا channels_last)\n",
        "if K.image_data_format() == 'channels_first':\n",
        "    X = X.reshape(X.shape[0], 1, X.shape[1], X.shape[2])     # (نمونه‌ها، کانال، طول، عرض)\n",
        "    input_shape = (1, X.shape[1], X.shape[2])\n",
        "else:\n",
        "    X = X.reshape(X.shape[0], X.shape[1], X.shape[2], 1)     # (نمونه‌ها، طول، عرض، کانال)\n",
        "    input_shape = (X.shape[1], X.shape[2], 1)\n",
        "\n",
        "# تقسیم داده به آموزش و تست (۷۰٪ آموزش، ۳۰٪ تست)\n",
        "X_train, X_test, L_train, L_test = train_test_split(X, L, test_size=0.3)\n",
        "\n",
        "# تبدیل برچسب‌ها به one-hot (مثلاً 3 → [0,0,0,1,0,...])\n",
        "L_train = to_categorical(L_train, num_classes=10)\n",
        "L_test = to_categorical(L_test, num_classes=10)\n",
        "\n",
        "# نرمال‌سازی داده‌ها (مقادیر بین 0 و 1)\n",
        "X_train = (X_train - X_train.min())/(X_train.max() - X_train.min())\n",
        "X_test = (X_test - X_test.min())/(X_test.max() - X_test.min())\n",
        "\n",
        "# ساخت مدل شبکه عصبی کانولوشنی\n",
        "Model = Sequential()\n",
        "Model.add(Conv2D(32, (3,3), input_shape =input_shape, activation = 'relu' )) # لایه کانولوشن با 32 فیلتر\n",
        "Model.add(Conv2D(64, (3,3), activation = 'relu'))                            # لایه کانولوشن با 64 فیلتر\n",
        "Model.add(MaxPooling2D((2,2)))                                              # کوچک‌سازی ویژگی‌ها\n",
        "Model.add(Dropout(0.25))                                                    # Dropout برای جلوگیری از overfitting\n",
        "Model.add(Flatten())                                                        # تخت کردن داده‌ها\n",
        "Model.add(Dense(128, activation = 'relu'))                                  # لایه کاملاً متصل با 128 نرون\n",
        "Model.add(Dropout(0.5))                                                     # Dropout بیشتر\n",
        "Model.add(Dense(10, activation = 'softmax'))                                # خروجی با 10 کلاس (اعداد 0 تا 9)\n",
        "\n",
        "Model.summary()  # نمایش معماری شبکه\n",
        "\n",
        "# کامپایل مدل با Adam و تابع خطای crossentropy\n",
        "Model.compile(Adam(),\n",
        "              loss = 'categorical_crossentropy',\n",
        "              metrics= ['accuracy'])\n",
        "\n",
        "# آموزش مدل روی داده‌ها\n",
        "h = Model.fit(X_train, L_train, epochs= 5, batch_size = 64)\n",
        "\n",
        "# رسم نمودار خطا\n",
        "plt.plot(h.history['loss'])\n",
        "plt.title('The loss of training model')\n",
        "plt.xlabel('epochs')\n",
        "plt.ylabel('loss')\n",
        "plt.show()\n",
        "\n",
        "# رسم نمودار دقت\n",
        "plt.plot(h.history['accuracy'])\n",
        "plt.title('The accuracy of training model')\n",
        "plt.xlabel('epochs')\n",
        "plt.ylabel('accuracy')\n",
        "plt.show()\n",
        "\n",
        "# پیش‌بینی روی داده‌های تست\n",
        "Output_model = Model.predict(X_test, batch_size=64)\n",
        "Output_model = np.argmax(Output_model, axis=1)  # گرفتن برچسب نهایی (کلاس بیشترین احتمال)\n",
        "#Output_model = Model.predict_classes(X_test, batch_size=64)  # روش قدیمی‌تر\n",
        "\n",
        "# محاسبه خطا و دقت روی تست\n",
        "Score = Model.evaluate(X_test, L_test, batch_size= 64)\n",
        "print(\"Test Loss: \", Score[0])\n",
        "print(\"Test accuracy: \", Score[1])\n",
        "\n",
        "\n",
        "index = 9  # شماره تصویر دلخواه در X_test\n",
        "img = X_test[index].reshape(X_test.shape[1], X_test.shape[2]) * 255  # تبدیل به مقیاس 0-255\n",
        "img = img.astype(\"uint8\")  # تبدیل نوع داده برای نمایش با OpenCV\n",
        "cv2.imshow(\"Test Image\", img)\n",
        "cv2.waitKey(0)   # منتظر فشردن یک کلید\n",
        "cv2.destroyAllWindows()"
      ],
      "metadata": {
        "id": "kDBVXfZFXjSh"
      },
      "execution_count": null,
      "outputs": []
    }
  ]
}