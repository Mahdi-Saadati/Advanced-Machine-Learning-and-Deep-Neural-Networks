{
  "nbformat": 4,
  "nbformat_minor": 0,
  "metadata": {
    "colab": {
      "provenance": [],
      "authorship_tag": "ABX9TyMOdGIBT/4P/39N6Nxkmi8d",
      "include_colab_link": true
    },
    "kernelspec": {
      "name": "python3",
      "display_name": "Python 3"
    },
    "language_info": {
      "name": "python"
    }
  },
  "cells": [
    {
      "cell_type": "markdown",
      "metadata": {
        "id": "view-in-github",
        "colab_type": "text"
      },
      "source": [
        "<a href=\"https://colab.research.google.com/github/Mahdi-Saadati/Machine-Learning-2/blob/main/1.i.%20Neural%20Network.ipynb\" target=\"_parent\"><img src=\"https://colab.research.google.com/assets/colab-badge.svg\" alt=\"Open In Colab\"/></a>"
      ]
    },
    {
      "cell_type": "code",
      "source": [
        "import numpy as np\n",
        "import matplotlib.pyplot as plt\n",
        "import pandas as pd\n",
        "from keras.utils import to_categorical\n",
        "from keras.models import Sequential\n",
        "from keras.layers import Dense\n",
        "from keras.layers import Activation\n",
        "from keras.layers import Dropout\n",
        "from keras.optimizers import SGD\n",
        "from keras.datasets import mnist\n",
        "\n",
        "(x_train, l_train), (x_test, l_test) = mnist.load_data()\n",
        "plt.imshow(x_train[0,:,:], cmap='gray', vmin = 0, vmax = 255)\n",
        "plt.show()\n",
        "x_train = x_train.reshape(60000,28*28)\n",
        "x_test = x_test.reshape(10000,28*28)\n",
        "x_train = x_train.astype('float32')\n",
        "x_test = x_test.astype('float32')\n",
        "x_train = (x_train - x_train.min())/(x_train.max() - x_train.min())\n",
        "x_test = (x_test - x_test.min())/(x_test.max() - x_test.min())\n",
        "\n",
        "l_train = to_categorical(l_train , num_classes = 10)\n",
        "l_test = to_categorical(l_test,  num_classes = 10)\n",
        "\n",
        "Model = Sequential()\n",
        "Model.add(Dense(512, input_dim = 28*28))\n",
        "Model.add(Activation('relu'))\n",
        "Model.add(Dropout(0.2))\n",
        "Model.add(Dense(512))\n",
        "Model.add(Activation('relu'))\n",
        "Model.add(Dropout(0.2))\n",
        "Model.add(Dense(10))\n",
        "Model.add(Activation('softmax'))\n",
        "\n",
        "Model.summary()\n",
        "\n",
        "Model.compile(SGD(learning_rate=0.01),\n",
        "              loss = 'categorical_crossentropy',\n",
        "              metrics= ['accuracy'])\n",
        "\n",
        "h = Model.fit(x_train, l_train, epochs= 2, batch_size = 64)\n",
        "\n",
        "plt.plot(h.history['loss'])\n",
        "plt.title('The loss of training model')\n",
        "plt.xlabel('epochs')\n",
        "plt.ylabel('loss')\n",
        "plt.show()\n",
        "\n",
        "plt.plot(h.history['accuracy'])\n",
        "plt.title('The accuracy of training model')\n",
        "plt.xlabel('epochs')\n",
        "plt.ylabel('accuracy')\n",
        "plt.show()\n",
        "\n",
        "#Pre = Model.predict(x_test, batch_size=64)\n",
        "Output_model = Model.predict(x_test)\n",
        "Output_model=np.argmax(Output_model,axis=1)\n",
        "\n",
        "Score = Model.evaluate(x_test, l_test)\n",
        "print(\"Test Loss: \", Score[0])\n",
        "print(\"Test accuracy: \", Score[1])\n"
      ],
      "metadata": {
        "id": "NLWU9QYesTXc"
      },
      "execution_count": null,
      "outputs": []
    }
  ]
}