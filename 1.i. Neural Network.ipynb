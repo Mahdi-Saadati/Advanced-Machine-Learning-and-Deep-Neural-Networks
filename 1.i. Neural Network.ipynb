{
  "nbformat": 4,
  "nbformat_minor": 0,
  "metadata": {
    "colab": {
      "provenance": [],
      "authorship_tag": "ABX9TyOxZSFYblRA5etPwWv0jJ3N",
      "include_colab_link": true
    },
    "kernelspec": {
      "name": "python3",
      "display_name": "Python 3"
    },
    "language_info": {
      "name": "python"
    }
  },
  "cells": [
    {
      "cell_type": "markdown",
      "metadata": {
        "id": "view-in-github",
        "colab_type": "text"
      },
      "source": [
        "<a href=\"https://colab.research.google.com/github/Mahdi-Saadati/Machine-Learning-2/blob/main/1.i.%20Neural%20Network.ipynb\" target=\"_parent\"><img src=\"https://colab.research.google.com/assets/colab-badge.svg\" alt=\"Open In Colab\"/></a>"
      ]
    },
    {
      "cell_type": "code",
      "source": [
        "import numpy as np   # کتابخانه محاسبات عددی\n",
        "import matplotlib.pyplot as plt   # برای رسم نمودار و نمایش تصاویر\n",
        "import pandas as pd   # برای کار با داده‌ها (اینجا خیلی استفاده نمی‌شود)\n",
        "\n",
        "from keras.utils import to_categorical   # برای تبدیل برچسب‌ها به one-hot\n",
        "from keras.models import Sequential      # برای ساخت مدل ترتیبی (لایه به لایه)\n",
        "from keras.layers import Dense, Activation, Dropout   # لایه‌های شبکه عصبی\n",
        "from keras.optimizers import SGD         # الگوریتم بهینه‌سازی (گرادیان کاهشی تصادفی)\n",
        "from keras.datasets import mnist         # دیتاست ارقام دست‌نویس (MNIST)\n",
        "\n",
        "# بارگذاری دیتاست MNIST (60,000 تصویر آموزش و 10,000 تصویر تست)\n",
        "(x_train, l_train), (x_test, l_test) = mnist.load_data()\n",
        "\n",
        "# نمایش اولین تصویر از داده‌های آموزشی\n",
        "plt.imshow(x_train[0,:,:], cmap='gray', vmin = 0, vmax = 255)\n",
        "plt.show()\n",
        "\n",
        "# تغییر شکل تصاویر از (28,28) به یک بردار (784,)\n",
        "x_train = x_train.reshape(60000, 28*28)\n",
        "x_test = x_test.reshape(10000, 28*28)\n",
        "\n",
        "# تبدیل داده‌ها به float برای محاسبات\n",
        "x_train = x_train.astype('float32')\n",
        "x_test = x_test.astype('float32')\n",
        "\n",
        "# نرمال‌سازی داده‌ها بین 0 و 1\n",
        "x_train = (x_train - x_train.min())/(x_train.max() - x_train.min())\n",
        "x_test = (x_test - x_test.min())/(x_test.max() - x_test.min())\n",
        "\n",
        "# تبدیل برچسب‌ها به one-hot (مثلاً عدد 7 → [0,0,0,0,0,0,0,1,0,0])\n",
        "l_train = to_categorical(l_train , num_classes = 10)\n",
        "l_test = to_categorical(l_test,  num_classes = 10)\n",
        "\n",
        "# ساخت مدل شبکه عصبی\n",
        "Model = Sequential()\n",
        "Model.add(Dense(512, input_dim = 28*28))    # لایه مخفی با 512 نورون (ورودی 784 ویژگی)\n",
        "Model.add(Activation('relu'))               # تابع فعال‌سازی ReLU\n",
        "Model.add(Dropout(0.2))                     # Dropout برای جلوگیری از overfitting\n",
        "\n",
        "Model.add(Dense(512))                       # لایه مخفی دوم با 512 نورون\n",
        "Model.add(Activation('relu'))               # ReLU برای غیرخطی شدن\n",
        "Model.add(Dropout(0.2))                     # Dropout دوم\n",
        "\n",
        "Model.add(Dense(10))                        # لایه خروجی با 10 نورون (برای 10 کلاس)\n",
        "Model.add(Activation('softmax'))            # softmax برای تبدیل خروجی به احتمال\n",
        "\n",
        "Model.summary()   # نمایش معماری مدل (لایه‌ها، تعداد پارامترها و ...)\n",
        "\n",
        "# کامپایل کردن مدل (آماده‌سازی برای آموزش)\n",
        "Model.compile(SGD(learning_rate=0.01),      # بهینه‌ساز SGD با نرخ یادگیری 0.01\n",
        "              loss='categorical_crossentropy',   # تابع خطا برای دسته‌بندی چندکلاسه\n",
        "              metrics=['accuracy'])              # معیار ارزیابی = دقت\n",
        "\n",
        "# آموزش مدل\n",
        "h = Model.fit(x_train, l_train, epochs=2, batch_size=64)   # دو دوره آموزش، هر بار 64 نمونه\n",
        "\n",
        "# رسم نمودار خطا در طول آموزش\n",
        "plt.plot(h.history['loss'])\n",
        "plt.title('The loss of training model')\n",
        "plt.xlabel('epochs')\n",
        "plt.ylabel('loss')\n",
        "plt.show()\n",
        "\n",
        "# رسم نمودار دقت در طول آموزش\n",
        "plt.plot(h.history['accuracy'])\n",
        "plt.title('The accuracy of training model')\n",
        "plt.xlabel('epochs')\n",
        "plt.ylabel('accuracy')\n",
        "plt.show()\n",
        "\n",
        "# پیش‌بینی بر روی داده‌های تست\n",
        "Output_model = Model.predict(x_test)\n",
        "Output_model = np.argmax(Output_model, axis=1)   # گرفتن برچسب نهایی (بیشترین احتمال)\n",
        "\n",
        "# ارزیابی مدل روی داده‌های تست\n",
        "Score = Model.evaluate(x_test, l_test)\n",
        "print(\"Test Loss: \", Score[0])       # چاپ مقدار خطا روی داده تست\n",
        "print(\"Test accuracy: \", Score[1])   # چاپ دقت مدل روی داده تست\n"
      ],
      "metadata": {
        "id": "NLWU9QYesTXc"
      },
      "execution_count": null,
      "outputs": []
    }
  ]
}